{
 "cells": [
  {
   "cell_type": "code",
   "execution_count": 13,
   "id": "fd25e298",
   "metadata": {},
   "outputs": [],
   "source": [
    "import requests\n",
    "from urllib.parse import quote\n",
    "\n",
    "from piskklis_code import get_parents"
   ]
  },
  {
   "cell_type": "code",
   "execution_count": null,
   "id": "ed264dfe",
   "metadata": {},
   "outputs": [],
   "source": []
  },
  {
   "cell_type": "code",
   "execution_count": 17,
   "id": "a22ed10f",
   "metadata": {},
   "outputs": [
    {
     "ename": "AttributeError",
     "evalue": "module 'piskklis_code' has no attribute 'get_concept_name'",
     "output_type": "error",
     "traceback": [
      "\u001b[31m---------------------------------------------------------------------------\u001b[39m",
      "\u001b[31mAttributeError\u001b[39m                            Traceback (most recent call last)",
      "\u001b[36mCell\u001b[39m\u001b[36m \u001b[39m\u001b[32mIn[17]\u001b[39m\u001b[32m, line 1\u001b[39m\n\u001b[32m----> \u001b[39m\u001b[32m1\u001b[39m concept_name = \u001b[43mpiskklis_code\u001b[49m\u001b[43m.\u001b[49m\u001b[43mget_concept_name\u001b[49m(\u001b[32m34402009\u001b[39m)\n",
      "\u001b[31mAttributeError\u001b[39m: module 'piskklis_code' has no attribute 'get_concept_name'"
     ]
    }
   ],
   "source": [
    "concept_name = piskklis_code.get_concept_name(34402009)"
   ]
  },
  {
   "cell_type": "code",
   "execution_count": 15,
   "id": "95b27c62",
   "metadata": {},
   "outputs": [
    {
     "data": {
      "text/plain": [
       "'Rectum structure'"
      ]
     },
     "execution_count": 15,
     "metadata": {},
     "output_type": "execute_result"
    }
   ],
   "source": [
    "concept_name"
   ]
  },
  {
   "cell_type": "markdown",
   "id": "26654e5f",
   "metadata": {},
   "source": [
    "#### \"Ich habe eine Sigmaresektion\"."
   ]
  },
  {
   "cell_type": "code",
   "execution_count": 4,
   "id": "860635de",
   "metadata": {},
   "outputs": [],
   "source": [
    "parents = piskklis_code.get_parents(34402009)"
   ]
  },
  {
   "cell_type": "code",
   "execution_count": 36,
   "id": "f27f354c",
   "metadata": {},
   "outputs": [],
   "source": [
    "concept = parents[0]\n",
    "concept['rules'] = []"
   ]
  },
  {
   "cell_type": "code",
   "execution_count": 35,
   "id": "a1043633",
   "metadata": {},
   "outputs": [],
   "source": [
    "def add_rule_to_concept(concept, rule):\n",
    "    concept['rules'].append(rule)\n",
    "    return concept"
   ]
  },
  {
   "cell_type": "code",
   "execution_count": 37,
   "id": "8ba22c4b",
   "metadata": {},
   "outputs": [],
   "source": [
    "rule = \"Eine allgemeine Regel für Colorectal Structure\"\n",
    "concept_mit_rule = add_rule_to_concept(concept, rule)"
   ]
  },
  {
   "cell_type": "code",
   "execution_count": 38,
   "id": "5adeebc6",
   "metadata": {},
   "outputs": [
    {
     "data": {
      "text/plain": [
       "{'system': 'http://snomed.info/sct',\n",
       " 'code': '1285733009',\n",
       " 'display': 'Colorectal structure',\n",
       " 'rules': ['Eine allgemeine Regel für Colorectal Structure']}"
      ]
     },
     "execution_count": 38,
     "metadata": {},
     "output_type": "execute_result"
    }
   ],
   "source": [
    "concept_mit_rule"
   ]
  },
  {
   "cell_type": "code",
   "execution_count": null,
   "id": "621d4ff3",
   "metadata": {},
   "outputs": [],
   "source": []
  }
 ],
 "metadata": {
  "kernelspec": {
   "display_name": "Python 3",
   "language": "python",
   "name": "python3"
  },
  "language_info": {
   "codemirror_mode": {
    "name": "ipython",
    "version": 3
   },
   "file_extension": ".py",
   "mimetype": "text/x-python",
   "name": "python",
   "nbconvert_exporter": "python",
   "pygments_lexer": "ipython3",
   "version": "3.11.13"
  }
 },
 "nbformat": 4,
 "nbformat_minor": 5
}
