{
 "cells": [
  {
   "cell_type": "code",
   "execution_count": 6,
   "id": "fd25e298",
   "metadata": {},
   "outputs": [],
   "source": [
    "import requests\n",
    "from urllib.parse import quote\n",
    "\n",
    "from piskklis_code import Piskklis_SnomedAPI"
   ]
  },
  {
   "cell_type": "code",
   "execution_count": 7,
   "id": "9d992d65",
   "metadata": {},
   "outputs": [],
   "source": [
    "smct_api = Piskklis_SnomedAPI()"
   ]
  },
  {
   "cell_type": "markdown",
   "id": "d105c1c4",
   "metadata": {},
   "source": [
    "#### Hole Konzepte mit Begriffen"
   ]
  },
  {
   "cell_type": "code",
   "execution_count": 8,
   "id": "dd8b7031",
   "metadata": {},
   "outputs": [
    {
     "name": "stdout",
     "output_type": "stream",
     "text": [
      "{'resourceType': 'ValueSet', 'id': '1db00b81-ede5-479a-bf35-096062d56a8c', 'url': 'http://snomed.info/sct?fhir_vs', 'status': 'active', 'copyright': 'This value set includes content from SNOMED CT, which is copyright © 2002+ International Health Terminology Standards Development Organisation (SNOMED International), and distributed by agreement between SNOMED International and HL7. Implementer use of SNOMED CT is not covered by this agreement.', 'expansion': {'id': '67d21165-f3e2-4034-b6da-2b0303affef8', 'timestamp': '2025-08-13T10:22:00+00:00', 'total': 100, 'offset': 0, 'parameter': [{'name': 'version', 'valueUri': 'http://snomed.info/sct|http://snomed.info/sct/900000000000207008/version/20250515'}, {'name': 'displayLanguage', 'valueString': 'en'}], 'contains': [{'system': 'http://snomed.info/sct', 'code': '23968004', 'display': 'Excision of colon'}, {'system': 'http://snomed.info/sct', 'code': '82619000', 'display': 'Left colectomy'}, {'system': 'http://snomed.info/sct', 'code': '359571009', 'display': 'Right colectomy'}, {'system': 'http://snomed.info/sct', 'code': '26390003', 'display': 'Total colectomy'}, {'system': 'http://snomed.info/sct', 'code': '309223002', 'display': 'Colectomy specimen'}, {'system': 'http://snomed.info/sct', 'code': '84604002', 'display': 'Sigmoid colectomy'}, {'system': 'http://snomed.info/sct', 'code': '43075005', 'display': 'Partial resection of colon'}, {'system': 'http://snomed.info/sct', 'code': '427816007', 'display': 'History of colectomy'}, {'system': 'http://snomed.info/sct', 'code': '26925005', 'display': 'Transverse colectomy'}, {'system': 'http://snomed.info/sct', 'code': '309487001', 'display': 'Total colectomy specimen'}]}}\n"
     ]
    },
    {
     "data": {
      "text/plain": [
       "[{'system': 'http://snomed.info/sct',\n",
       "  'code': '23968004',\n",
       "  'display': 'Excision of colon'},\n",
       " {'system': 'http://snomed.info/sct',\n",
       "  'code': '82619000',\n",
       "  'display': 'Left colectomy'},\n",
       " {'system': 'http://snomed.info/sct',\n",
       "  'code': '359571009',\n",
       "  'display': 'Right colectomy'},\n",
       " {'system': 'http://snomed.info/sct',\n",
       "  'code': '26390003',\n",
       "  'display': 'Total colectomy'},\n",
       " {'system': 'http://snomed.info/sct',\n",
       "  'code': '309223002',\n",
       "  'display': 'Colectomy specimen'},\n",
       " {'system': 'http://snomed.info/sct',\n",
       "  'code': '84604002',\n",
       "  'display': 'Sigmoid colectomy'},\n",
       " {'system': 'http://snomed.info/sct',\n",
       "  'code': '43075005',\n",
       "  'display': 'Partial resection of colon'},\n",
       " {'system': 'http://snomed.info/sct',\n",
       "  'code': '427816007',\n",
       "  'display': 'History of colectomy'},\n",
       " {'system': 'http://snomed.info/sct',\n",
       "  'code': '26925005',\n",
       "  'display': 'Transverse colectomy'},\n",
       " {'system': 'http://snomed.info/sct',\n",
       "  'code': '309487001',\n",
       "  'display': 'Total colectomy specimen'}]"
      ]
     },
     "execution_count": 8,
     "metadata": {},
     "output_type": "execute_result"
    }
   ],
   "source": [
    "search_term = 'colectomy' #'card ct \n",
    "concepts = smct_api.get_concepts(search_term)\n",
    "concepts"
   ]
  },
  {
   "cell_type": "code",
   "execution_count": null,
   "id": "d8bcd4a7",
   "metadata": {},
   "outputs": [],
   "source": []
  },
  {
   "cell_type": "markdown",
   "id": "26654e5f",
   "metadata": {},
   "source": [
    "#### \"Ich habe eine Konzeptcode\"."
   ]
  },
  {
   "cell_type": "code",
   "execution_count": 17,
   "id": "f13556ac",
   "metadata": {},
   "outputs": [],
   "source": [
    "mycardial_code = '86441007'\n",
    "rectum_structure_code = '34402009'"
   ]
  },
  {
   "cell_type": "code",
   "execution_count": 18,
   "id": "ff9244eb",
   "metadata": {},
   "outputs": [],
   "source": [
    "concept_name = smct_api.get_concept_name(rectum_structure_code)"
   ]
  },
  {
   "cell_type": "code",
   "execution_count": 19,
   "id": "26f75afa",
   "metadata": {},
   "outputs": [
    {
     "data": {
      "text/plain": [
       "'Rectum structure'"
      ]
     },
     "execution_count": 19,
     "metadata": {},
     "output_type": "execute_result"
    }
   ],
   "source": [
    "concept_name"
   ]
  },
  {
   "cell_type": "markdown",
   "id": "6d28dc45",
   "metadata": {},
   "source": [
    "#### \"Ich habe eine Sigmaresektion\"."
   ]
  },
  {
   "cell_type": "code",
   "execution_count": 12,
   "id": "1a1692b9",
   "metadata": {},
   "outputs": [
    {
     "data": {
      "text/plain": [
       "50"
      ]
     },
     "execution_count": 12,
     "metadata": {},
     "output_type": "execute_result"
    }
   ],
   "source": [
    "parents = smct_api.get_parents('34402009')\n",
    "len(parents)"
   ]
  },
  {
   "cell_type": "code",
   "execution_count": 13,
   "id": "f27f354c",
   "metadata": {},
   "outputs": [],
   "source": [
    "concept = parents[0]\n",
    "concept['rules'] = []"
   ]
  },
  {
   "cell_type": "code",
   "execution_count": 14,
   "id": "a1043633",
   "metadata": {},
   "outputs": [],
   "source": [
    "def add_rule_to_concept(concept, rule):\n",
    "    concept['rules'].append(rule)\n",
    "    return concept"
   ]
  },
  {
   "cell_type": "code",
   "execution_count": 15,
   "id": "8ba22c4b",
   "metadata": {},
   "outputs": [],
   "source": [
    "rule = \"Eine allgemeine Regel für Colorectal Structure\"\n",
    "concept_mit_rule = add_rule_to_concept(concept, rule)"
   ]
  },
  {
   "cell_type": "code",
   "execution_count": 16,
   "id": "5adeebc6",
   "metadata": {},
   "outputs": [
    {
     "data": {
      "text/plain": [
       "{'system': 'http://snomed.info/sct',\n",
       " 'code': '1285733009',\n",
       " 'display': 'Colorectal structure',\n",
       " 'rules': ['Eine allgemeine Regel für Colorectal Structure']}"
      ]
     },
     "execution_count": 16,
     "metadata": {},
     "output_type": "execute_result"
    }
   ],
   "source": [
    "concept_mit_rule"
   ]
  },
  {
   "cell_type": "code",
   "execution_count": null,
   "id": "621d4ff3",
   "metadata": {},
   "outputs": [],
   "source": []
  },
  {
   "cell_type": "code",
   "execution_count": null,
   "id": "bdb2957a",
   "metadata": {},
   "outputs": [],
   "source": []
  }
 ],
 "metadata": {
  "kernelspec": {
   "display_name": "Python 3",
   "language": "python",
   "name": "python3"
  },
  "language_info": {
   "codemirror_mode": {
    "name": "ipython",
    "version": 3
   },
   "file_extension": ".py",
   "mimetype": "text/x-python",
   "name": "python",
   "nbconvert_exporter": "python",
   "pygments_lexer": "ipython3",
   "version": "3.11.13"
  }
 },
 "nbformat": 4,
 "nbformat_minor": 5
}
