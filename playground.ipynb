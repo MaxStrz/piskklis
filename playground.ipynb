{
 "cells": [
  {
   "cell_type": "code",
   "execution_count": 1,
   "id": "fd25e298",
   "metadata": {},
   "outputs": [],
   "source": [
    "import requests\n",
    "from urllib.parse import quote\n",
    "\n",
    "from piskklis_code import Piskklis_SnomedAPI"
   ]
  },
  {
   "cell_type": "code",
   "execution_count": 2,
   "id": "9d992d65",
   "metadata": {},
   "outputs": [],
   "source": [
    "smct_api = Piskklis_SnomedAPI()"
   ]
  },
  {
   "cell_type": "markdown",
   "id": "d105c1c4",
   "metadata": {},
   "source": [
    "#### Hole Konzepte mit Begriffen"
   ]
  },
  {
   "cell_type": "code",
   "execution_count": 3,
   "id": "dd8b7031",
   "metadata": {},
   "outputs": [
    {
     "name": "stdout",
     "output_type": "stream",
     "text": [
      "[Fehler] get_concepts(colectomy): HTTPConnectionPool(host='snowstorm', port=8080): Read timed out. (read timeout=10)\n"
     ]
    }
   ],
   "source": [
    "search_term = 'colectomy' #'card ct \n",
    "concepts = smct_api.get_concepts(search_term)\n",
    "concepts"
   ]
  },
  {
   "cell_type": "code",
   "execution_count": null,
   "id": "d8bcd4a7",
   "metadata": {},
   "outputs": [],
   "source": []
  },
  {
   "cell_type": "markdown",
   "id": "26654e5f",
   "metadata": {},
   "source": [
    "#### \"Ich habe eine Konzeptcode\"."
   ]
  },
  {
   "cell_type": "code",
   "execution_count": 6,
   "id": "f13556ac",
   "metadata": {},
   "outputs": [],
   "source": [
    "mycardial_code = '86441007'\n",
    "rectum_structure_code = '34402009'"
   ]
  },
  {
   "cell_type": "code",
   "execution_count": 7,
   "id": "ff9244eb",
   "metadata": {},
   "outputs": [],
   "source": [
    "concept_name = smct_api.get_concept_name(mycardial_code)"
   ]
  },
  {
   "cell_type": "code",
   "execution_count": 8,
   "id": "26f75afa",
   "metadata": {},
   "outputs": [
    {
     "data": {
      "text/plain": [
       "'Cardiac myocyte'"
      ]
     },
     "execution_count": 8,
     "metadata": {},
     "output_type": "execute_result"
    }
   ],
   "source": [
    "concept_name"
   ]
  },
  {
   "cell_type": "markdown",
   "id": "6d28dc45",
   "metadata": {},
   "source": [
    "#### \"Ich habe eine Sigmaresektion\"."
   ]
  },
  {
   "cell_type": "code",
   "execution_count": null,
   "id": "1a1692b9",
   "metadata": {},
   "outputs": [
    {
     "data": {
      "text/plain": [
       "50"
      ]
     },
     "execution_count": 12,
     "metadata": {},
     "output_type": "execute_result"
    }
   ],
   "source": [
    "parents = smct_api.get_parents('34402009')\n",
    "len(parents)"
   ]
  },
  {
   "cell_type": "code",
   "execution_count": 6,
   "id": "f27f354c",
   "metadata": {},
   "outputs": [],
   "source": [
    "concept = parents[0]\n",
    "concept['rules'] = []"
   ]
  },
  {
   "cell_type": "code",
   "execution_count": 35,
   "id": "a1043633",
   "metadata": {},
   "outputs": [],
   "source": [
    "def add_rule_to_concept(concept, rule):\n",
    "    concept['rules'].append(rule)\n",
    "    return concept"
   ]
  },
  {
   "cell_type": "code",
   "execution_count": 37,
   "id": "8ba22c4b",
   "metadata": {},
   "outputs": [],
   "source": [
    "rule = \"Eine allgemeine Regel für Colorectal Structure\"\n",
    "concept_mit_rule = add_rule_to_concept(concept, rule)"
   ]
  },
  {
   "cell_type": "code",
   "execution_count": 38,
   "id": "5adeebc6",
   "metadata": {},
   "outputs": [
    {
     "data": {
      "text/plain": [
       "{'system': 'http://snomed.info/sct',\n",
       " 'code': '1285733009',\n",
       " 'display': 'Colorectal structure',\n",
       " 'rules': ['Eine allgemeine Regel für Colorectal Structure']}"
      ]
     },
     "execution_count": 38,
     "metadata": {},
     "output_type": "execute_result"
    }
   ],
   "source": [
    "concept_mit_rule"
   ]
  },
  {
   "cell_type": "code",
   "execution_count": null,
   "id": "621d4ff3",
   "metadata": {},
   "outputs": [],
   "source": []
  }
 ],
 "metadata": {
  "kernelspec": {
   "display_name": "Python 3",
   "language": "python",
   "name": "python3"
  },
  "language_info": {
   "codemirror_mode": {
    "name": "ipython",
    "version": 3
   },
   "file_extension": ".py",
   "mimetype": "text/x-python",
   "name": "python",
   "nbconvert_exporter": "python",
   "pygments_lexer": "ipython3",
   "version": "3.11.13"
  }
 },
 "nbformat": 4,
 "nbformat_minor": 5
}
